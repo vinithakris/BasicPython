{
  "nbformat": 4,
  "nbformat_minor": 0,
  "metadata": {
    "colab": {
      "name": "L1 - lec1.ipynb",
      "provenance": [],
      "collapsed_sections": []
    },
    "kernelspec": {
      "display_name": "Python 3",
      "language": "python",
      "name": "python3"
    },
    "language_info": {
      "codemirror_mode": {
        "name": "ipython",
        "version": 3
      },
      "file_extension": ".py",
      "mimetype": "text/x-python",
      "name": "python",
      "nbconvert_exporter": "python",
      "pygments_lexer": "ipython3",
      "version": "3.7.6"
    }
  },
  "cells": [
    {
      "cell_type": "markdown",
      "metadata": {
        "id": "4OEhKiJ5J1LN"
      },
      "source": [
        "# Getting Started with Python\n",
        "\n",
        "Lets start at the very beginning. You can use Python as a calculator.\n",
        "\n",
        "This is my first notebook forked from other github repo. \n",
        "\n",
        "![](https://github.com/vinithakris/BasicPython/blob/main/getting_started.slides.dir/8.png?raw=1)"
      ]
    },
    {
      "cell_type": "markdown",
      "metadata": {
        "id": "tqxyMQF1J1MT"
      },
      "source": [
        "## A calculator"
      ]
    },
    {
      "cell_type": "code",
      "metadata": {
        "id": "a5x0S9DEJ1Me",
        "outputId": "a251e875-b22c-46b5-a6cc-cefcc0048a79"
      },
      "source": [
        "1 + 1"
      ],
      "execution_count": null,
      "outputs": [
        {
          "output_type": "execute_result",
          "data": {
            "text/plain": [
              "2"
            ]
          },
          "metadata": {
            "tags": []
          },
          "execution_count": 1
        }
      ]
    },
    {
      "cell_type": "code",
      "metadata": {
        "id": "ffnHD06KJ1Mk",
        "outputId": "9baa26bd-3479-4a8f-843a-03b952c93290"
      },
      "source": [
        "5 - 1"
      ],
      "execution_count": null,
      "outputs": [
        {
          "output_type": "execute_result",
          "data": {
            "text/plain": [
              "4"
            ]
          },
          "metadata": {
            "tags": []
          },
          "execution_count": 2
        }
      ]
    },
    {
      "cell_type": "code",
      "metadata": {
        "id": "Lltp-_xJJ1Mm",
        "outputId": "1c881366-38e3-4101-8802-deb35565fc58"
      },
      "source": [
        "23*45"
      ],
      "execution_count": null,
      "outputs": [
        {
          "output_type": "execute_result",
          "data": {
            "text/plain": [
              "1035"
            ]
          },
          "metadata": {
            "tags": []
          },
          "execution_count": 3
        }
      ]
    },
    {
      "cell_type": "code",
      "metadata": {
        "id": "xoUFoid5J1Mn",
        "outputId": "35622d56-742c-4b6d-d755-4c062c2dc05c"
      },
      "source": [
        "2**10"
      ],
      "execution_count": null,
      "outputs": [
        {
          "output_type": "execute_result",
          "data": {
            "text/plain": [
              "1024"
            ]
          },
          "metadata": {
            "tags": []
          },
          "execution_count": 8
        }
      ]
    },
    {
      "cell_type": "code",
      "metadata": {
        "id": "tN_oZbUJJ1Mp",
        "outputId": "e795aa5c-2894-43df-a88d-a3fe7689a9bb"
      },
      "source": [
        "5/2"
      ],
      "execution_count": null,
      "outputs": [
        {
          "output_type": "execute_result",
          "data": {
            "text/plain": [
              "2.5"
            ]
          },
          "metadata": {
            "tags": []
          },
          "execution_count": 5
        }
      ]
    },
    {
      "cell_type": "markdown",
      "metadata": {
        "id": "wk2k5WzsJ1Mr"
      },
      "source": [
        "And this is integer divison:"
      ]
    },
    {
      "cell_type": "code",
      "metadata": {
        "id": "XtMJzPX_J1Ms",
        "outputId": "6e7c1123-57f5-4c58-9add-93cbe0a5871a"
      },
      "source": [
        "5//2"
      ],
      "execution_count": null,
      "outputs": [
        {
          "output_type": "execute_result",
          "data": {
            "text/plain": [
              "2"
            ]
          },
          "metadata": {
            "tags": []
          },
          "execution_count": 6
        }
      ]
    },
    {
      "cell_type": "markdown",
      "metadata": {
        "id": "4Th3dqLDJ1Mt"
      },
      "source": [
        "You can also get the remainder:"
      ]
    },
    {
      "cell_type": "code",
      "metadata": {
        "id": "mh5VLyHDJ1Mu",
        "outputId": "703a94bc-f94f-40c5-ad7c-9b353441a986"
      },
      "source": [
        "5 % 2"
      ],
      "execution_count": null,
      "outputs": [
        {
          "output_type": "execute_result",
          "data": {
            "text/plain": [
              "1"
            ]
          },
          "metadata": {
            "tags": []
          },
          "execution_count": 7
        }
      ]
    },
    {
      "cell_type": "markdown",
      "metadata": {
        "id": "1iOs0Qd_ah_A"
      },
      "source": [
        "A language is not particularly useful,if you cant *symbolically* assign values in the language to names. This is the concept of *variables*, stolen from algebra.\n",
        "\n",
        "## Variables\n",
        "\n",
        "**Variables are labels for values**\n",
        "\n",
        "- Start with a letter or underscore\n",
        "- Can contain only alpha-numeric characters and underscore\n",
        "- Are case sensitive"
      ]
    },
    {
      "cell_type": "code",
      "metadata": {
        "id": "uX-33Ockarbc",
        "outputId": "6d27abe1-3b1d-49aa-cb36-d9e12aaf0444"
      },
      "source": [
        "# CANT DO THIS 9variable = \"hello\"\n",
        "# print 9variable\n",
        "\n",
        "Var = \"hello\"\n",
        "#print (var) # will give an error\n",
        "print (Var)"
      ],
      "execution_count": null,
      "outputs": [
        {
          "output_type": "stream",
          "text": [
            "hello\n"
          ],
          "name": "stdout"
        }
      ]
    },
    {
      "cell_type": "markdown",
      "metadata": {
        "id": "b10WqI_BJ1M0"
      },
      "source": [
        "What happened above? In the computer's memory, a location was found, and then filled with the word \"hello\". Then a variable `Var` was created and was used to label this memory location.\n",
        "\n",
        "![](https://github.com/vinithakris/BasicPython/blob/main/images/labelmem.jpg?raw=1)"
      ]
    },
    {
      "cell_type": "markdown",
      "metadata": {
        "id": "i883lrL-au-6"
      },
      "source": [
        "### Variable Data Types\n",
        "\n",
        "  - Integer\n",
        "  - Float\n",
        "  - String\n",
        "  - Boolean\n",
        "\n",
        "(More data types are available but not necessary now)"
      ]
    },
    {
      "cell_type": "code",
      "metadata": {
        "id": "PXUOcyCYa0B4",
        "outputId": "c922d64f-095a-40cc-dfa7-8d480c7bf071"
      },
      "source": [
        "#To identify the data type of a variable in python we use the built-in function type()\n",
        "\n",
        "var = 7\n",
        "print (var)\n",
        "print(\"The data type is:\", type(var))"
      ],
      "execution_count": null,
      "outputs": [
        {
          "output_type": "stream",
          "text": [
            "7\n",
            "The data type is: <class 'int'>\n"
          ],
          "name": "stdout"
        }
      ]
    },
    {
      "cell_type": "code",
      "metadata": {
        "id": "gxlREmada7xz",
        "outputId": "49e16ec6-e0ef-427c-eafe-4c293b0e5154"
      },
      "source": [
        "var = 7.01\n",
        "print (var)\n",
        "print(\"The data type is:\", type(var))"
      ],
      "execution_count": null,
      "outputs": [
        {
          "output_type": "stream",
          "text": [
            "7.01\n",
            "The data type is: <class 'float'>\n"
          ],
          "name": "stdout"
        }
      ]
    },
    {
      "cell_type": "code",
      "metadata": {
        "id": "8KC5JyfZa93t",
        "outputId": "7e3d1cb2-0854-454e-ee21-9f8297749922"
      },
      "source": [
        "var = \"Hello World!\"\n",
        "print (var)\n",
        "print(\"The data type is:\", type(var))"
      ],
      "execution_count": null,
      "outputs": [
        {
          "output_type": "stream",
          "text": [
            "Hello World!\n",
            "The data type is: <class 'str'>\n"
          ],
          "name": "stdout"
        }
      ]
    },
    {
      "cell_type": "code",
      "metadata": {
        "id": "llCMJzpcbAAp",
        "outputId": "62e8a138-ebfe-4ed4-fc3e-7f9c6331e994"
      },
      "source": [
        "var = True\n",
        "print (var)\n",
        "print(\"The data type is:\", type(var))"
      ],
      "execution_count": null,
      "outputs": [
        {
          "output_type": "stream",
          "text": [
            "True\n",
            "The data type is: <class 'bool'>\n"
          ],
          "name": "stdout"
        }
      ]
    },
    {
      "cell_type": "markdown",
      "metadata": {
        "id": "DHkc7UuJJ1M7"
      },
      "source": [
        "A variable is literally a label. You can think of it as a post-it, or sticky note, or a *pointer*. Do not think of it as a box in which a value is stored.\n",
        "\n",
        "In the above, we just take the variable `var` and point it to different pieces of memory holding different values. This is perhaps more clear from a diagram.\n",
        "\n",
        "![](https://github.com/vinithakris/BasicPython/blob/main/images/labelmemmany.jpg?raw=1)"
      ]
    },
    {
      "cell_type": "markdown",
      "metadata": {
        "id": "R7rxdurPbFOE"
      },
      "source": [
        "## Even More operators\n",
        "\n",
        "Besides the usual \"operators\" for values we profiled at the top, you can also use the following:\n",
        "\n",
        "1. Boolean Expressions: returns True or False \n",
        "2. Relational operators: !=, ==, <=, <, >, >= \n",
        "3. Logical Operators: and, or, not\n",
        "\n",
        "You can use a variable, wherever you had used a value:"
      ]
    },
    {
      "cell_type": "code",
      "metadata": {
        "id": "ecFxNLCybLTC"
      },
      "source": [
        "# Arithmetic Operators\n",
        "var1 = 5\n",
        "var2 = 3\n",
        "\n",
        "print (var1 - var2)\n",
        "print (var1*var2)\n",
        "\n",
        "var1 = \"hello\"\n",
        "var2 = \"world\"\n",
        "var3 = \"!\"\n",
        "print (var1+\" \"+var2+var3)\n",
        "\n",
        "# Modulus\n",
        "a = 5\n",
        "b = 2\n",
        "c = a%b\n",
        "print (c)"
      ],
      "execution_count": null,
      "outputs": []
    },
    {
      "cell_type": "markdown",
      "metadata": {
        "id": "sFP0j8k_J1NN"
      },
      "source": [
        "In any programming language, to be able to do something useful, you need to be able to evaluate the \"truthiness\" of expressions."
      ]
    },
    {
      "cell_type": "code",
      "metadata": {
        "id": "H0xM6Im5J1NO",
        "outputId": "794a604e-fcfd-485c-e85a-7344cbb5414e"
      },
      "source": [
        "# Relational Operators & Boolean expressions\n",
        "var1 = 5\n",
        "var2 = 3\n",
        "print (var1 < var2)"
      ],
      "execution_count": null,
      "outputs": [
        {
          "output_type": "stream",
          "text": [
            "False\n"
          ],
          "name": "stdout"
        }
      ]
    },
    {
      "cell_type": "markdown",
      "metadata": {
        "id": "3R2PQUjHJ1NQ"
      },
      "source": [
        "Such comparisons can be used to make decisions, as we shall soon see."
      ]
    },
    {
      "cell_type": "code",
      "metadata": {
        "id": "_r3uFxZTJ1NR",
        "outputId": "294d7ab7-775f-4d49-9a66-2f19b9844e06"
      },
      "source": [
        "a = \"hgi\"\n",
        "b = \"hello\"\n",
        "c = \"hi\"\n",
        "d = \"hello\"\n",
        "print (a==c)\n",
        "print (b==d)"
      ],
      "execution_count": null,
      "outputs": [
        {
          "output_type": "stream",
          "text": [
            "False\n",
            "True\n"
          ],
          "name": "stdout"
        }
      ]
    },
    {
      "cell_type": "markdown",
      "metadata": {
        "id": "WlGIEWGKJ1NS"
      },
      "source": [
        "The first comparison compares the contents of the memory for `a` and `c` and finds that both are different, giving us `False`. Conversely, the second comparison gives us `True`. We can utilize such comparisons in \"decision statements\"."
      ]
    },
    {
      "cell_type": "markdown",
      "metadata": {
        "id": "5at6TQF3bsw7"
      },
      "source": [
        "## Conditional Statements and Python Indentation\n",
        "\n",
        "If you have the ability to test something for \"truthiness\", you can use it to make a decision."
      ]
    },
    {
      "cell_type": "code",
      "metadata": {
        "id": "VUZf9DZ3bzJa",
        "outputId": "ac7bb084-63a2-458e-9be8-8d39202c8ba4"
      },
      "source": [
        "#Simple If conditions\n",
        "var1 = 5\n",
        "var2 = 10\n",
        "\n",
        "if var1 == var2:\n",
        "    print(\"The values are equal\")\n",
        "if var1 < var2:\n",
        "    print(\"First variable is lesser than the second variable\")\n",
        "if var1 > var2:\n",
        "    print(\"Second variable is lesser than the first variable\")"
      ],
      "execution_count": null,
      "outputs": [
        {
          "output_type": "stream",
          "text": [
            "First variable is lesser than the second variable\n"
          ],
          "name": "stdout"
        }
      ]
    },
    {
      "cell_type": "markdown",
      "metadata": {
        "id": "wWhHUIomJ1NV"
      },
      "source": [
        "Notice how python dispenses with brackets, **replacing them by a colon and an indented next line**. The indentation tells us that the code below runs when the condition holds. Python uses this **colon-indentation** for many things, such as *for loops* for iteration and loops in general, for conditionals, for function and class definition, etc."
      ]
    },
    {
      "cell_type": "markdown",
      "metadata": {
        "id": "-jHIta7UJ1NW"
      },
      "source": [
        "This conditional is such a common idiom that there is a better way to write it."
      ]
    },
    {
      "cell_type": "code",
      "metadata": {
        "id": "VsRHt8nKb1xv",
        "outputId": "601d8985-159a-466a-f97e-702d59c1899c"
      },
      "source": [
        "#An alternative way to code the previous (If-Else)\n",
        "var1 = 5\n",
        "var2 = 10\n",
        "\n",
        "if (var1 == var2):\n",
        "    print(\"The values are equal\")\n",
        "elif (var1 < var2):\n",
        "    print(\"First variable is lesser than the second variable\")  \n",
        "else:\n",
        "    print(\"Second variable is lesser than the first variable\")"
      ],
      "execution_count": null,
      "outputs": [
        {
          "output_type": "stream",
          "text": [
            "First variable is lesser than the second variable\n"
          ],
          "name": "stdout"
        }
      ]
    },
    {
      "cell_type": "markdown",
      "metadata": {
        "id": "NlaUBNfgJ1NZ"
      },
      "source": [
        "Notice the brackets around the conditional. These are optional but can sometimes help disambiguate. You can combine multiple such statements."
      ]
    },
    {
      "cell_type": "code",
      "metadata": {
        "id": "5i9oEH0sb7qw",
        "outputId": "9a8bd22d-3ee2-479f-ebf8-d7885403fd0e"
      },
      "source": [
        "#Nested If\n",
        "var1 = 5\n",
        "var2 = 10\n",
        "var3 = 15\n",
        "\n",
        "if (var1 == var2):\n",
        "    print (\"The values are equal\")\n",
        "\n",
        "elif (var1 < var2):\n",
        "    if (var2 == var3):\n",
        "        print (\"Equal \")\n",
        "    elif (var2 < var3):\n",
        "        print (\"Less than\")\n",
        "    else:\n",
        "        print (\"Greater than\")\n",
        "\n",
        "else:\n",
        "    print (\"Did not satisfy any previous conditions\")\n"
      ],
      "execution_count": null,
      "outputs": [
        {
          "output_type": "stream",
          "text": [
            "Less than\n"
          ],
          "name": "stdout"
        }
      ]
    }
  ]
}