{
  "nbformat": 4,
  "nbformat_minor": 0,
  "metadata": {
    "colab": {
      "name": "L1 - lec2.ipynb",
      "provenance": [],
      "collapsed_sections": []
    },
    "kernelspec": {
      "display_name": "Python 3",
      "language": "python",
      "name": "python3"
    },
    "language_info": {
      "codemirror_mode": {
        "name": "ipython",
        "version": 3
      },
      "file_extension": ".py",
      "mimetype": "text/x-python",
      "name": "python",
      "nbconvert_exporter": "python",
      "pygments_lexer": "ipython3",
      "version": "3.7.6"
    }
  },
  "cells": [
    {
      "cell_type": "markdown",
      "metadata": {
        "id": "vtWoJ1OzTUfg"
      },
      "source": [
        "# Listiness.. or things that behave like lists"
      ]
    },
    {
      "cell_type": "markdown",
      "metadata": {
        "id": "Cr885QBxTUf6"
      },
      "source": [
        "Python puts great stock in the idea of having  **protocols** or mechanisms of behavior, and identifying cases in which this behavior is common.\n",
        "\n",
        "One of the most important ideas is that of things that behave like a *list of items*. \n",
        "\n",
        "These include lists, strings, and files. Many other data structures in Python are made to behave like lists as well, so that their content can be *iterated* through, in addition to their own native behavior."
      ]
    },
    {
      "cell_type": "markdown",
      "metadata": {
        "id": "jDynSCDMwHcC"
      },
      "source": [
        "## Lists\n",
        "\n",
        "The first of these that we should consider, are, well, lists themselves :-). Lets see how python lists behave.\n",
        "\n",
        "A list in Python is a sequence of anything!\n",
        "\n",
        "Lists are mutable; you can insert and delete elements anytime."
      ]
    },
    {
      "cell_type": "code",
      "metadata": {
        "colab": {
          "base_uri": "https://localhost:8080/"
        },
        "id": "kDz4HzEbwORg",
        "outputId": "fca22781-b055-4862-95d1-b8c9c6d4e0c8"
      },
      "source": [
        "# CREATING A LIST\n",
        "\n",
        "# A list is made from zero or more elements, separated by commas, and surrounded by square\n",
        "empty_list = []\n",
        "working_days = ['Monday', 'Tuesday', 'Wednesday', 'Thursday', 'Friday']\n",
        "print (working_days[2])"
      ],
      "execution_count": 1,
      "outputs": [
        {
          "output_type": "stream",
          "text": [
            "Wednesday\n"
          ],
          "name": "stdout"
        }
      ]
    },
    {
      "cell_type": "markdown",
      "metadata": {
        "id": "ycbPRfDkTUgD"
      },
      "source": [
        "Notice that Python lists are indexed from 0. The first element gets index 0, the second element gets index 1, and so on. Thus `working_days[2]` gives us the 3rd element."
      ]
    },
    {
      "cell_type": "code",
      "metadata": {
        "colab": {
          "base_uri": "https://localhost:8080/"
        },
        "id": "u6rfmf9bTUgF",
        "outputId": "ca4a19fd-14b6-4c72-95e0-ce257b710ebb"
      },
      "source": [
        "# An empty list can be created using the list() function:\n",
        "next_empty_list = list()\n",
        "print (type(next_empty_list))"
      ],
      "execution_count": 2,
      "outputs": [
        {
          "output_type": "stream",
          "text": [
            "<class 'list'>\n"
          ],
          "name": "stdout"
        }
      ]
    },
    {
      "cell_type": "markdown",
      "metadata": {
        "id": "h1jaH47JTUgG"
      },
      "source": [
        "![](https://github.com/vinithakris/BasicPython/blob/main/listiness.slides.dir/3.png?raw=1)"
      ]
    },
    {
      "cell_type": "markdown",
      "metadata": {
        "id": "afHbfodMTUgL"
      },
      "source": [
        "There is a class of objects in Python that are not lists, bur rather, like lists, have a sequential existent. We dont want to generate them until we need them because they are easy to generate and would otherwise take up memory. An example is the\n",
        "object created by the function `range(start, stop)` which just gives you sequential numbers from start to 1 before stop. To generate these numbers, we can pass them to the `list` function"
      ]
    },
    {
      "cell_type": "code",
      "metadata": {
        "id": "ur3krvAOTUgM",
        "outputId": "5b5c0512-7d77-4cfe-8e0e-f31d974bd326",
        "colab": {
          "base_uri": "https://localhost:8080/"
        }
      },
      "source": [
        "range(1,10)"
      ],
      "execution_count": 3,
      "outputs": [
        {
          "output_type": "execute_result",
          "data": {
            "text/plain": [
              "range(1, 10)"
            ]
          },
          "metadata": {
            "tags": []
          },
          "execution_count": 3
        }
      ]
    },
    {
      "cell_type": "code",
      "metadata": {
        "id": "Bm_IZk1uUd3Z",
        "outputId": "2ad039a1-43af-41d9-beeb-7d024a383a0b",
        "colab": {
          "base_uri": "https://localhost:8080/"
        }
      },
      "source": [
        "type(range(1,10)) #why is it a range?? It is in a sequence... why model it as a sequence? because it saves memory. i.e compute instead of storing it the memory."
      ],
      "execution_count": 5,
      "outputs": [
        {
          "output_type": "execute_result",
          "data": {
            "text/plain": [
              "range"
            ]
          },
          "metadata": {
            "tags": []
          },
          "execution_count": 5
        }
      ]
    },
    {
      "cell_type": "code",
      "metadata": {
        "colab": {
          "base_uri": "https://localhost:8080/"
        },
        "id": "2w00JDg0wS3-",
        "outputId": "df2a0e0d-b4e5-4a22-eb74-36d7d650346e"
      },
      "source": [
        "num_list = list(range(1,10)) \n",
        "print(num_list) "
      ],
      "execution_count": 7,
      "outputs": [
        {
          "output_type": "stream",
          "text": [
            "[1, 2, 3, 4, 5, 6, 7, 8, 9]\n"
          ],
          "name": "stdout"
        }
      ]
    },
    {
      "cell_type": "code",
      "metadata": {
        "colab": {
          "base_uri": "https://localhost:8080/"
        },
        "id": "VwQolwoUwUfE",
        "outputId": "912ae1b3-05c3-488c-ef85-c3a938404a81"
      },
      "source": [
        "# Lists are mutable (elements are changeable) \n",
        "num_list = [1, 2, 3, 4]\n",
        "num_list[1] = 8 \n",
        "print (num_list)"
      ],
      "execution_count": 6,
      "outputs": [
        {
          "output_type": "stream",
          "text": [
            "[1, 8, 3, 4]\n"
          ],
          "name": "stdout"
        }
      ]
    },
    {
      "cell_type": "markdown",
      "metadata": {
        "id": "n-5iGIaKTUgR"
      },
      "source": [
        "![](https://github.com/vinithakris/BasicPython/blob/main/listiness.slides.dir/4.png?raw=1)"
      ]
    },
    {
      "cell_type": "code",
      "metadata": {
        "colab": {
          "base_uri": "https://localhost:8080/"
        },
        "id": "sdBbnLTVwXJf",
        "outputId": "a246bbdd-f401-4e93-bff7-114da64c4359"
      },
      "source": [
        "# Indexing a list\n",
        "# - Any integer expression can be used as an index\n",
        "# - If an index has a negative value, it counts from backward\n",
        "lst = list(range(1,5))\n",
        "print(lst)\n",
        "print (lst[-1])"
      ],
      "execution_count": 8,
      "outputs": [
        {
          "output_type": "stream",
          "text": [
            "[1, 2, 3, 4]\n",
            "4\n"
          ],
          "name": "stdout"
        }
      ]
    },
    {
      "cell_type": "markdown",
      "metadata": {
        "id": "EKO1fv1_TUgU"
      },
      "source": [
        "You can get slices of lists"
      ]
    },
    {
      "cell_type": "code",
      "metadata": {
        "id": "FV0WaRw8TUgU",
        "outputId": "60c1fbbf-3ad9-4e31-ed52-f24bf3813a7b",
        "colab": {
          "base_uri": "https://localhost:8080/"
        }
      },
      "source": [
        "lst[0:3] # from 0, dont include whats at index 3"
      ],
      "execution_count": 9,
      "outputs": [
        {
          "output_type": "execute_result",
          "data": {
            "text/plain": [
              "[1, 2, 3]"
            ]
          },
          "metadata": {
            "tags": []
          },
          "execution_count": 9
        }
      ]
    },
    {
      "cell_type": "code",
      "metadata": {
        "id": "IUx5REJxTUgW",
        "outputId": "e7db5ff3-5765-4c12-d54e-968fab6d7f92",
        "colab": {
          "base_uri": "https://localhost:8080/"
        }
      },
      "source": [
        "lst[-3:-1]"
      ],
      "execution_count": 10,
      "outputs": [
        {
          "output_type": "execute_result",
          "data": {
            "text/plain": [
              "[2, 3]"
            ]
          },
          "metadata": {
            "tags": []
          },
          "execution_count": 10
        }
      ]
    },
    {
      "cell_type": "code",
      "metadata": {
        "colab": {
          "base_uri": "https://localhost:8080/"
        },
        "id": "dsEJup_xwZYQ",
        "outputId": "e7aea680-aa33-42df-ea66-0ffc01c961a1"
      },
      "source": [
        "# A list can have another list, or anything else as its element\n",
        "numbers = [1, 2, 3, 4, 5]\n",
        "courses = ['PP', 'BDA', \"USP\", 'WTA'] \n",
        "new_list = [numbers, courses, '6th sem'] \n",
        "print (new_list, len(new_list))"
      ],
      "execution_count": 11,
      "outputs": [
        {
          "output_type": "stream",
          "text": [
            "[[1, 2, 3, 4, 5], ['PP', 'BDA', 'USP', 'WTA'], '6th sem'] 3\n"
          ],
          "name": "stdout"
        }
      ]
    },
    {
      "cell_type": "code",
      "metadata": {
        "colab": {
          "base_uri": "https://localhost:8080/",
          "height": 180
        },
        "id": "yxPMSYv2wi4y",
        "outputId": "ef0e84b2-f0d2-4dbb-f114-f3f7a9d8bf08"
      },
      "source": [
        "#Membership (using 'in' operator)\n",
        "'a' in list_a"
      ],
      "execution_count": 12,
      "outputs": [
        {
          "output_type": "error",
          "ename": "NameError",
          "evalue": "ignored",
          "traceback": [
            "\u001b[0;31m---------------------------------------------------------------------------\u001b[0m",
            "\u001b[0;31mNameError\u001b[0m                                 Traceback (most recent call last)",
            "\u001b[0;32m<ipython-input-12-b7f09b778744>\u001b[0m in \u001b[0;36m<module>\u001b[0;34m()\u001b[0m\n\u001b[1;32m      1\u001b[0m \u001b[0;31m#Membership (using 'in' operator)\u001b[0m\u001b[0;34m\u001b[0m\u001b[0;34m\u001b[0m\u001b[0;34m\u001b[0m\u001b[0m\n\u001b[0;32m----> 2\u001b[0;31m \u001b[0;34m'a'\u001b[0m \u001b[0;32min\u001b[0m \u001b[0mlist_a\u001b[0m\u001b[0;34m\u001b[0m\u001b[0;34m\u001b[0m\u001b[0m\n\u001b[0m",
            "\u001b[0;31mNameError\u001b[0m: name 'list_a' is not defined"
          ]
        }
      ]
    },
    {
      "cell_type": "markdown",
      "metadata": {
        "id": "58TAFgaeTUga"
      },
      "source": [
        "## Operations on lists\n",
        "\n",
        "Lists support many methods which make using them simple. My favorite is `append`.\n"
      ]
    },
    {
      "cell_type": "code",
      "metadata": {
        "colab": {
          "base_uri": "https://localhost:8080/"
        },
        "id": "N8t4LmEAwlLf",
        "outputId": "8918b548-f9e9-4c16-e1da-73886441cfe9"
      },
      "source": [
        "# append(x) - Adds a new element 'x' at the end of the list\n",
        "alist = ['a', 'b', 'c'] \n",
        "alist.append('d') \n",
        "print (alist)"
      ],
      "execution_count": 13,
      "outputs": [
        {
          "output_type": "stream",
          "text": [
            "['a', 'b', 'c', 'd']\n"
          ],
          "name": "stdout"
        }
      ]
    },
    {
      "cell_type": "code",
      "metadata": {
        "id": "O2r5W9zfTUgc",
        "outputId": "6307e000-9e72-4c2e-cbb1-adc94d987500"
      },
      "source": [
        "# insert(i, x) - inserts a new element 'x' at a specified index 'i'\n",
        "alist.insert(2, \"hello\")\n",
        "alist"
      ],
      "execution_count": null,
      "outputs": [
        {
          "output_type": "execute_result",
          "data": {
            "text/plain": [
              "['a', 'b', 'hello', 'c', 'd']"
            ]
          },
          "metadata": {
            "tags": []
          },
          "execution_count": 42
        }
      ]
    },
    {
      "cell_type": "code",
      "metadata": {
        "id": "C9YZUZcHw-4K",
        "outputId": "ec1aae3a-9f90-48a1-cf98-59a5c16c00a3"
      },
      "source": [
        "# sorted(list) - returns the sorted 'list', but does not replace order in original list \n",
        "num = [ 4, 6, 2]\n",
        "num = sorted(num)\n",
        "num"
      ],
      "execution_count": null,
      "outputs": [
        {
          "output_type": "execute_result",
          "data": {
            "text/plain": [
              "[2, 4, 6]"
            ]
          },
          "metadata": {
            "tags": []
          },
          "execution_count": 43
        }
      ]
    },
    {
      "cell_type": "code",
      "metadata": {
        "id": "a8W1o6D2xIyG",
        "outputId": "049f74f9-837b-4ecc-8fea-e0d999acf66a"
      },
      "source": [
        "# pop(i) - removes and returns the element in index position 'i'\n",
        "num = [4, 7, 2, 6, 3, 9] \n",
        "num.pop(3)\n",
        "num"
      ],
      "execution_count": null,
      "outputs": [
        {
          "output_type": "execute_result",
          "data": {
            "text/plain": [
              "[4, 7, 2, 3, 9]"
            ]
          },
          "metadata": {
            "tags": []
          },
          "execution_count": 44
        }
      ]
    },
    {
      "cell_type": "code",
      "metadata": {
        "id": "u3mw0lvxxN5M",
        "outputId": "13336392-eb16-45b8-8f43-d55a8bafbee2"
      },
      "source": [
        "# clear() - removes all the elements from a list.\n",
        "num = [4, 7, 2, 6, 3, 9]\n",
        "num.clear()\n",
        "num"
      ],
      "execution_count": null,
      "outputs": [
        {
          "output_type": "execute_result",
          "data": {
            "text/plain": [
              "[]"
            ]
          },
          "metadata": {
            "tags": []
          },
          "execution_count": 45
        }
      ]
    },
    {
      "cell_type": "markdown",
      "metadata": {
        "id": "8D94C3KSTUgh"
      },
      "source": [
        "Adding lists produces a bigger list! This is an example of a programming technique called operator overloading"
      ]
    },
    {
      "cell_type": "code",
      "metadata": {
        "id": "3nxOlcsoTUgi",
        "outputId": "54d22c8b-e45f-4d2e-a2d5-a63bf7967e47"
      },
      "source": [
        "first_list = [1, 2, 3]\n",
        "second_list = ['a', 'b', 'c']\n",
        "first_list + second_list"
      ],
      "execution_count": null,
      "outputs": [
        {
          "output_type": "execute_result",
          "data": {
            "text/plain": [
              "[1, 2, 3, 'a', 'b', 'c']"
            ]
          },
          "metadata": {
            "tags": []
          },
          "execution_count": 46
        }
      ]
    },
    {
      "cell_type": "markdown",
      "metadata": {
        "id": "af2kd4xPTUgj"
      },
      "source": [
        "## Iterating over lists\n",
        "\n",
        "Using a for loop to do iteration is quite simple."
      ]
    },
    {
      "cell_type": "code",
      "metadata": {
        "id": "hM4r1YHUTUgk",
        "outputId": "d21c9853-0fae-4fd6-a0b9-2d6d2b4abd38"
      },
      "source": [
        "num = [4, 7, 2, 6, 3, 9]\n",
        "for ele in num:\n",
        "    print(ele)"
      ],
      "execution_count": null,
      "outputs": [
        {
          "output_type": "stream",
          "text": [
            "4\n",
            "7\n",
            "2\n",
            "6\n",
            "3\n",
            "9\n"
          ],
          "name": "stdout"
        }
      ]
    },
    {
      "cell_type": "markdown",
      "metadata": {
        "id": "7B2X48GkTUgl"
      },
      "source": [
        "You can now mix in conditionals to filter your iteration:"
      ]
    },
    {
      "cell_type": "code",
      "metadata": {
        "id": "6CPctMIjTUgm",
        "outputId": "df7f690b-eb03-4f7c-9362-4a42a95c6f23"
      },
      "source": [
        "for ele in num:\n",
        "    if ele % 2 == 0: #even numbers only\n",
        "        print(ele)"
      ],
      "execution_count": null,
      "outputs": [
        {
          "output_type": "stream",
          "text": [
            "4\n",
            "2\n",
            "6\n"
          ],
          "name": "stdout"
        }
      ]
    },
    {
      "cell_type": "markdown",
      "metadata": {
        "id": "m0YP4SxOTUgn"
      },
      "source": [
        "There is a short-cut iteration syntax called a list comprehension, often used to construct new lists"
      ]
    },
    {
      "cell_type": "code",
      "metadata": {
        "id": "2UBGMF9MTUgo",
        "outputId": "48bf7e55-f355-4592-9fa9-82f3058bd7dd"
      },
      "source": [
        "list_with_same_as_num = [e for e in num]\n",
        "list_with_same_as_num"
      ],
      "execution_count": null,
      "outputs": [
        {
          "output_type": "execute_result",
          "data": {
            "text/plain": [
              "[4, 7, 2, 6, 3, 9]"
            ]
          },
          "metadata": {
            "tags": []
          },
          "execution_count": 49
        }
      ]
    },
    {
      "cell_type": "markdown",
      "metadata": {
        "id": "OUd1OjH2TUgp"
      },
      "source": [
        "This kind of syntax is really useful when combined with conditionals:"
      ]
    },
    {
      "cell_type": "code",
      "metadata": {
        "id": "1m6AJijOTUgq",
        "outputId": "3a028608-8288-4eb8-a1e9-5374fa66cf4c"
      },
      "source": [
        "list_with_evens = [e for e in num if e % 2 == 0]\n",
        "list_with_evens"
      ],
      "execution_count": null,
      "outputs": [
        {
          "output_type": "execute_result",
          "data": {
            "text/plain": [
              "[4, 2, 6]"
            ]
          },
          "metadata": {
            "tags": []
          },
          "execution_count": 50
        }
      ]
    },
    {
      "cell_type": "markdown",
      "metadata": {
        "id": "-kKCRDDZoNvk"
      },
      "source": [
        "## Strings\n",
        "\n",
        "Strings such as `hello world` in python behave just like lists, and a lot of what you learn about lists applies to them: they are **iterable**, and they have a length! But they have one critical additional property: they are **immutable**, that is they cant be changed!\n"
      ]
    },
    {
      "cell_type": "code",
      "metadata": {
        "id": "Cbkj834onHje",
        "outputId": "b1c29318-3f3b-4fe0-cda1-4f6e21a716b1"
      },
      "source": [
        "var = \"This is a string\"\n",
        "print (var, len(var))\n",
        "print (var[3]) # the s of This"
      ],
      "execution_count": null,
      "outputs": [
        {
          "output_type": "stream",
          "text": [
            "This is a string 16\n",
            "s\n"
          ],
          "name": "stdout"
        }
      ]
    },
    {
      "cell_type": "code",
      "metadata": {
        "id": "_l43df83TUgy",
        "outputId": "6f4a13f5-6641-417a-b79d-20aa8c3732a2"
      },
      "source": [
        "for char in var:\n",
        "    print(char)"
      ],
      "execution_count": null,
      "outputs": [
        {
          "output_type": "stream",
          "text": [
            "T\n",
            "h\n",
            "i\n",
            "s\n",
            " \n",
            "i\n",
            "s\n",
            " \n",
            "a\n",
            " \n",
            "s\n",
            "t\n",
            "r\n",
            "i\n",
            "n\n",
            "g\n"
          ],
          "name": "stdout"
        }
      ]
    },
    {
      "cell_type": "code",
      "metadata": {
        "id": "ZMlLrs8kTUgz",
        "outputId": "136e1a94-f621-4d95-ebec-2238b08f7478"
      },
      "source": [
        "var[3] = \"t\" # this will fail because immutability"
      ],
      "execution_count": null,
      "outputs": [
        {
          "output_type": "error",
          "ename": "TypeError",
          "evalue": "'str' object does not support item assignment",
          "traceback": [
            "\u001b[0;31m---------------------------------------------------------------------------\u001b[0m",
            "\u001b[0;31mTypeError\u001b[0m                                 Traceback (most recent call last)",
            "\u001b[0;32m<ipython-input-53-afd63de1e61e>\u001b[0m in \u001b[0;36m<module>\u001b[0;34m\u001b[0m\n\u001b[0;32m----> 1\u001b[0;31m \u001b[0mvar\u001b[0m\u001b[0;34m[\u001b[0m\u001b[0;36m3\u001b[0m\u001b[0;34m]\u001b[0m \u001b[0;34m=\u001b[0m \u001b[0;34m\"t\"\u001b[0m \u001b[0;31m# this will fail because immutability\u001b[0m\u001b[0;34m\u001b[0m\u001b[0;34m\u001b[0m\u001b[0m\n\u001b[0m",
            "\u001b[0;31mTypeError\u001b[0m: 'str' object does not support item assignment"
          ]
        }
      ]
    },
    {
      "cell_type": "markdown",
      "metadata": {
        "id": "faPCqpmCTUg0"
      },
      "source": [
        "Strings can be sliced just as lists can"
      ]
    },
    {
      "cell_type": "code",
      "metadata": {
        "id": "qmcUsTzOTUg1",
        "outputId": "15fab28f-89bd-4e05-dee4-70269bf02260"
      },
      "source": [
        "#String slicing\n",
        "print(var)\n",
        "print (var[6:])\n",
        "print (var[1:3])\n",
        "print (var[:-1])\n",
        "print (var[2:10:2]) #the last parameter is for chagning the step size"
      ],
      "execution_count": null,
      "outputs": [
        {
          "output_type": "stream",
          "text": [
            "This is a string\n",
            "s a string\n",
            "hi\n",
            "This is a strin\n",
            "i sa\n"
          ],
          "name": "stdout"
        }
      ]
    },
    {
      "cell_type": "markdown",
      "metadata": {
        "id": "hR0Sc-1LTUg2"
      },
      "source": [
        "![](https://github.com/vinithakris/BasicPython/blob/main/listiness.slides.dir/7.png?raw=1)"
      ]
    },
    {
      "cell_type": "markdown",
      "metadata": {
        "id": "JLnDLEqpxV25"
      },
      "source": [
        "## Files\n",
        "\n",
        "The built-in `open()` function creates a Python file object, which serves as a link to a file residing on your machine. After calling 'open()', strings of data can be transferred to and from the associated external file by calling the returned file object's methods.\n",
        "\n",
        "At this point, you can read data from the file as a whole (`read()`, or `n` bytes at a time, `read(n)`. You can read a line at a time with `readline()`, and all the lines into a list of strings with `readlines()`. Similar methods exist for writing.\n",
        "\n",
        "You must close the file after you finish using it.\n",
        "\n",
        "![](https://github.com/vinithakris/BasicPython/blob/main/listiness.slides.dir/10.png?raw=1)\n",
        "\n",
        "But as you might have expected, you can treat a file just like a list even more idiomatically, as we shall see."
      ]
    },
    {
      "cell_type": "code",
      "metadata": {
        "id": "vajTog09YZkl",
        "outputId": "f687dd4d-069f-4506-c0ee-6d0b7ddbf820",
        "colab": {
          "base_uri": "https://localhost:8080/"
        }
      },
      "source": [
        "#!wget https://github.com/vinithakris/BasicPython/blob/main/data/Julius%20Caesar.txt  #fetches the url with html part\r\n",
        "!wget https://raw.githubusercontent.com/vinithakris/BasicPython/main/data/Julius%20Caesar.txt"
      ],
      "execution_count": 16,
      "outputs": [
        {
          "output_type": "stream",
          "text": [
            "--2020-12-19 05:07:19--  https://raw.githubusercontent.com/vinithakris/BasicPython/main/data/Julius%20Caesar.txt\n",
            "Resolving raw.githubusercontent.com (raw.githubusercontent.com)... 151.101.0.133, 151.101.64.133, 151.101.128.133, ...\n",
            "Connecting to raw.githubusercontent.com (raw.githubusercontent.com)|151.101.0.133|:443... connected.\n",
            "HTTP request sent, awaiting response... 200 OK\n",
            "Length: 120873 (118K) [text/plain]\n",
            "Saving to: ‘Julius Caesar.txt.1’\n",
            "\n",
            "\rJulius Caesar.txt.1   0%[                    ]       0  --.-KB/s               \rJulius Caesar.txt.1 100%[===================>] 118.04K  --.-KB/s    in 0.04s   \n",
            "\n",
            "2020-12-19 05:07:19 (2.97 MB/s) - ‘Julius Caesar.txt.1’ saved [120873/120873]\n",
            "\n"
          ],
          "name": "stdout"
        }
      ]
    },
    {
      "cell_type": "code",
      "metadata": {
        "id": "m6Gd6vPMTUg4",
        "outputId": "130dd3ad-7d35-4533-93c4-0005fcdd6e66",
        "colab": {
          "base_uri": "https://localhost:8080/"
        }
      },
      "source": [
        "#fd = open(\"data/Julius Caesar.txt\")\n",
        "fd = open(\"Julius Caesar.txt\")\n",
        "counter = 0\n",
        "for line in fd:\n",
        "    if counter < 10: # print first 10 lines, there are lots!\n",
        "        print(\"<<\", line, \">>\")\n",
        "    counter = counter + 1 # also writeable as counter += 1\n",
        "fd.close()"
      ],
      "execution_count": 17,
      "outputs": [
        {
          "output_type": "stream",
          "text": [
            "<< \n",
            " >>\n",
            "<< \n",
            " >>\n",
            "<< \n",
            " >>\n",
            "<< \n",
            " >>\n",
            "<< \n",
            " >>\n",
            "<< \n",
            " >>\n",
            "<< <!DOCTYPE html>\n",
            " >>\n",
            "<< <html lang=\"en\">\n",
            " >>\n",
            "<<   <head>\n",
            " >>\n",
            "<<     <meta charset=\"utf-8\">\n",
            " >>\n"
          ],
          "name": "stdout"
        }
      ]
    },
    {
      "cell_type": "markdown",
      "metadata": {
        "id": "xTN7p7jjTUg5"
      },
      "source": [
        "Notice that the newlines remain. You can use the string method `strip` to remove them. There are many such \"methods\", which are functions that belong to string \"objects\"."
      ]
    },
    {
      "cell_type": "code",
      "metadata": {
        "id": "nTEkcYRUTUg6",
        "outputId": "792a31a1-4b07-4863-91dd-e8d1fe9b0cf8"
      },
      "source": [
        "fd = open(\"data/Julius Caesar.txt\")\n",
        "counter = 0\n",
        "for line in fd:\n",
        "    if counter < 10: # print first 10 lines\n",
        "        print(\"<<\", line.strip(), \">>\") #gets rid of new line characters\n",
        "    else:\n",
        "        break # break out of for loop\n",
        "    counter = counter + 1 # also writeable as counter += 1\n",
        "fd.close()\n",
        "print(counter)"
      ],
      "execution_count": null,
      "outputs": [
        {
          "output_type": "stream",
          "text": [
            "<< THE TRAGEDY OF JULIUS CAESAR >>\n",
            "<<  >>\n",
            "<<  >>\n",
            "<< by William Shakespeare >>\n",
            "<<  >>\n",
            "<<  >>\n",
            "<< Contents >>\n",
            "<<  >>\n",
            "<< ACT I >>\n",
            "<< Scene I. Rome. A street. >>\n",
            "10\n"
          ],
          "name": "stdout"
        }
      ]
    },
    {
      "cell_type": "markdown",
      "metadata": {
        "id": "kNeHi0ExTUg7"
      },
      "source": [
        "Above we added a `break` statement in the for loop which ended our iteration through the file (its the whole play!!!). You can use `readlines()` here but it will read the entire file into memory."
      ]
    },
    {
      "cell_type": "code",
      "metadata": {
        "id": "eMA9z7fvTUg8",
        "outputId": "84f8796f-e4a8-4687-dc58-1a2604334ff6"
      },
      "source": [
        "fd = open(\"data/Julius Caesar.txt\")\n",
        "lines = [line.strip() for line in fd.readlines()]\n",
        "fd.close()\n",
        "print(len(lines))"
      ],
      "execution_count": null,
      "outputs": [
        {
          "output_type": "stream",
          "text": [
            "4639\n"
          ],
          "name": "stdout"
        }
      ]
    },
    {
      "cell_type": "markdown",
      "metadata": {
        "id": "d0jJonhRTUg9"
      },
      "source": [
        "### What about writing?\n",
        "\n",
        "Lets write the first ten lines out..."
      ]
    },
    {
      "cell_type": "code",
      "metadata": {
        "id": "9Vs4eYUdTUg_",
        "outputId": "8aa86521-fef0-4f31-b200-1a9622f11516"
      },
      "source": [
        "fd = open(\"data/Julius Caesar.txt\")\n",
        "fd2 = open(\"data/julfirst10.txt\", \"w\")\n",
        "counter = 0\n",
        "for line in fd:\n",
        "    if counter < 10: # print first 10 lines\n",
        "        print(\"<<\", line.strip(), \">>\")\n",
        "        fd2.write(line)\n",
        "    else:\n",
        "        break # break out of for loop\n",
        "    counter = counter + 1 # also writeable as counter += 1\n",
        "fd.close()\n",
        "fd2.close()\n",
        "print(counter)"
      ],
      "execution_count": null,
      "outputs": [
        {
          "output_type": "stream",
          "text": [
            "<< THE TRAGEDY OF JULIUS CAESAR >>\n",
            "<<  >>\n",
            "<<  >>\n",
            "<< by William Shakespeare >>\n",
            "<<  >>\n",
            "<<  >>\n",
            "<< Contents >>\n",
            "<<  >>\n",
            "<< ACT I >>\n",
            "<< Scene I. Rome. A street. >>\n",
            "10\n"
          ],
          "name": "stdout"
        }
      ]
    }
  ]
}